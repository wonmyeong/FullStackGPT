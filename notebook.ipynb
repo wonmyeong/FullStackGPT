{
 "cells": [
  {
   "cell_type": "code",
   "execution_count": 1,
   "metadata": {},
   "outputs": [
    {
     "name": "stderr",
     "output_type": "stream",
     "text": [
      "c:\\Users\\wmk51\\FULLSTACK-GPT\\env\\Lib\\site-packages\\langchain\\llms\\openai.py:216: UserWarning: You are trying to use a chat model. This way of initializing it is no longer supported. Instead, please use: `from langchain.chat_models import ChatOpenAI`\n",
      "  warnings.warn(\n",
      "c:\\Users\\wmk51\\FULLSTACK-GPT\\env\\Lib\\site-packages\\langchain\\llms\\openai.py:811: UserWarning: You are trying to use a chat model. This way of initializing it is no longer supported. Instead, please use: `from langchain.chat_models import ChatOpenAI`\n",
      "  warnings.warn(\n"
     ]
    }
   ],
   "source": [
    "from langchain.llms import OpenAI\n",
    "from langchain.chat_models import ChatOpenAI\n",
    "\n",
    "llm = OpenAI(model_name=\"gpt-3.5-turbo-1106\")\n",
    "chat = ChatOpenAI()\n",
    "\n",
    "a = llm.predict(\"how many planets are there\")\n",
    "b = chat.predict(\"how many planets are there\")"
   ]
  },
  {
   "cell_type": "code",
   "execution_count": 7,
   "metadata": {},
   "outputs": [
    {
     "data": {
      "text/plain": [
       "('There are eight recognized planets in our solar system: Mercury, Venus, Earth, Mars, Jupiter, Saturn, Uranus, and Neptune.',\n",
       " 'There are 8 planets in our solar system: Mercury, Venus, Earth, Mars, Jupiter, Saturn, Uranus, and Neptune.')"
      ]
     },
     "execution_count": 7,
     "metadata": {},
     "output_type": "execute_result"
    }
   ],
   "source": [
    "a,b\n"
   ]
  },
  {
   "cell_type": "markdown",
   "metadata": {},
   "source": [
    "##3-2"
   ]
  },
  {
   "cell_type": "code",
   "execution_count": 10,
   "metadata": {},
   "outputs": [],
   "source": [
    "from langchain.chat_models import ChatOpenAI\n",
    "#chatmodel 생성자\n",
    "chat = ChatOpenAI(temperature=0.1) ##얼마나 창의적인 답변을 요구하느ㄴ냐"
   ]
  },
  {
   "cell_type": "code",
   "execution_count": 12,
   "metadata": {},
   "outputs": [
    {
     "data": {
      "text/plain": [
       "AIMessage(content='서울과 부산 사이의 거리는 약 325km입니다. 제 이름은 원호입니다. 어떻게 도와드릴까요?')"
      ]
     },
     "execution_count": 12,
     "metadata": {},
     "output_type": "execute_result"
    }
   ],
   "source": [
    "\n",
    "messages = chatPromptTemplate.from_messages[\n",
    "    \n",
    "]\n",
    "\n",
    "chat.predict_messages(messages)"
   ]
  },
  {
   "cell_type": "code",
   "execution_count": 1,
   "metadata": {},
   "outputs": [],
   "source": [
    "from langchain.chat_models import ChatOpenAI\n",
    "from langchain.prompts import PromptTemplate, ChatPromptTemplate\n",
    "# #PromptTemplate은 String을 가지고만 사용한다.\n",
    "# template = PromptTemplate.from_template(\n",
    "#     \"What is the distance between {country_a} and {country_b}\",\n",
    "# )\n",
    "\n",
    "# chat = ChatOpenAI(temperature=0.1)\n",
    "\n",
    "# prompt = template.format(country_a = \"Mexico\", country_b = \"Korea\")\n",
    "# chat.predict(prompt)"
   ]
  },
  {
   "cell_type": "code",
   "execution_count": 10,
   "metadata": {},
   "outputs": [
    {
     "data": {
      "text/plain": [
       "AIMessage(content='Γεια σας! Το όνομά μου είναι Σωκράτης. Η απόσταση μεταξύ του Μεξικού και της Ταϊλάνδης είναι περίπου 16.000 χιλιόμετρα.')"
      ]
     },
     "execution_count": 10,
     "metadata": {},
     "output_type": "execute_result"
    }
   ],
   "source": [
    "from langchain.chat_models import ChatOpenAI\n",
    "from langchain.prompts import PromptTemplate, ChatPromptTemplate\n",
    "#PromptTemplate은 String을 가지고만 사용한다.\n",
    "chat = ChatOpenAI(temperature=0.1)\n",
    "\n",
    "#template은 큰 틀이고\n",
    "template = ChatPromptTemplate.from_messages(\n",
    "    [\n",
    "        (\"system\",\"You are a geography expert. And you only reply in {language}.\"),\n",
    "        (\"ai\",\"Ciao, mi chiamao {name}!\"),\n",
    "        (\"human\", \"what is the distance between {country_a} and {country_b}. Also, what is your name?\")\n",
    "    ]\n",
    ")\n",
    "#prompt 조건을 만족시키게 넣어주는 역활이다\n",
    "prompt = template.format_messages(\n",
    "    language=\"Greek\",\n",
    "    name=\"Socrates\",\n",
    "    country_a=\"Mexico\",\n",
    "    country_b=\"Thailand\",\n",
    ")\n",
    "\n",
    "chat.predict_messages(prompt)"
   ]
  },
  {
   "cell_type": "code",
   "execution_count": 12,
   "metadata": {},
   "outputs": [
    {
     "data": {
      "text/plain": [
       "['Hello', 'how', 'are', 'you']"
      ]
     },
     "execution_count": 12,
     "metadata": {},
     "output_type": "execute_result"
    }
   ],
   "source": [
    "from langchain.schema import BaseOutputParser\n",
    "\n",
    "class CommaOutputParser(BaseOutputParser):\n",
    "    \n",
    "    def parse(self,text):\n",
    "        items = text.strip().split(\",\")\n",
    "        return list(map(str.strip, items))\n",
    "    \n",
    "    \n",
    "p = CommaOutputParser()\n",
    "p.parse(\"Hello, how, are, you\")"
   ]
  },
  {
   "cell_type": "code",
   "execution_count": 16,
   "metadata": {},
   "outputs": [],
   "source": [
    "from langchain.prompts import PromptTemplate, ChatPromptTemplate\n",
    "\n",
    "###chain 만들기 위해서 필용한 요소 chat,outputParser,template\n",
    "chat = ChatOpenAI(temperature=0.1)\n",
    "\n",
    "class CommaOutputParser(BaseOutputParser):\n",
    "    \n",
    "    def parse(self,text):\n",
    "        items = text.strip().split(\",\")\n",
    "        return list(map(str.strip, items))\n",
    "\n",
    "\n",
    "template = ChatPromptTemplate.from_messages(\n",
    "    [\n",
    "        (\"system\",\"you are a generating machine. Everything you are asked will be answered with a comma separated list of max {max_items}\\\n",
    "         in lowercase. Do NOT reply with anything else.\",),\n",
    "        (\"human\",\"{question}\")\n",
    "    ]\n",
    ")\n",
    "\n",
    "\n",
    "\n"
   ]
  },
  {
   "cell_type": "code",
   "execution_count": 17,
   "metadata": {},
   "outputs": [
    {
     "data": {
      "text/plain": [
       "['pikachu', 'charmander', 'bulbasaur', 'squirtle', 'jigglypuff']"
      ]
     },
     "execution_count": 17,
     "metadata": {},
     "output_type": "execute_result"
    }
   ],
   "source": [
    "## \"|\"만 있으면 모든지 해결된다\n",
    "\n",
    "chain = template | chat | CommaOutputParser()\n",
    "chain.invoke({\n",
    "    \"max_items\":5,\n",
    "    \"question\": \"what are the pokemons\"\n",
    "})"
   ]
  },
  {
   "cell_type": "code",
   "execution_count": 22,
   "metadata": {},
   "outputs": [],
   "source": [
    "from langchain.chat_models import ChatOpenAI\n",
    "from langchain.prompts import ChatPromptTemplate\n",
    "from langchain.callbacks import StreamingStdOutCallbackHandler\n",
    "from langchain.prompts.prompt import PromptTemplate\n",
    "\n",
    "chat = ChatOpenAI(temperature=0.1,\n",
    "                  streaming=True,\n",
    "                  callbacks=[StreamingStdOutCallbackHandler()]\n",
    "                  )\n",
    "##첫 번쨰 chain 요리사\n",
    "chef_prompt = ChatPromptTemplate.from_messages([\n",
    "    (\"system\", \"You are a world-class international chef. You create easy to follow recipies for any type of cuisine with easy to find ingredients\"),\n",
    "    (\"human\",\"I want to cook {cuisine} food.\")\n",
    "])\n",
    "\n",
    "chef_chain = chef_prompt | chat"
   ]
  },
  {
   "cell_type": "code",
   "execution_count": 23,
   "metadata": {},
   "outputs": [
    {
     "name": "stdout",
     "output_type": "stream",
     "text": [
      "Great choice! Indian cuisine is known for its bold flavors and aromatic spices. Let's make a classic dish - Chicken Tikka Masala. Here's a simple recipe for you to try at home:\n",
      "\n",
      "Ingredients:\n",
      "- 1 lb boneless, skinless chicken breasts, cut into bite-sized pieces\n",
      "- 1 cup plain yogurt\n",
      "- 2 tbsp lemon juice\n",
      "- 2 tbsp vegetable oil\n",
      "- 1 onion, finely chopped\n",
      "- 3 cloves garlic, minced\n",
      "- 1-inch piece of ginger, grated\n",
      "- 1 can (14 oz) crushed tomatoes\n",
      "- 2 tbsp tomato paste\n",
      "- 1 tsp ground cumin\n",
      "- 1 tsp ground coriander\n",
      "- 1 tsp paprika\n",
      "- 1 tsp garam masala\n",
      "- 1/2 tsp turmeric\n",
      "- Salt and pepper, to taste\n",
      "- Fresh cilantro, for garnish\n",
      "- Cooked rice or naan, for serving\n",
      "\n",
      "Instructions:\n",
      "1. In a bowl, combine the yogurt, lemon juice, 1 tbsp of vegetable oil, half of the minced garlic, half of the grated ginger, and a pinch of salt. Add the chicken pieces and marinate for at least 1 hour, preferably overnight.\n",
      "\n",
      "2. Preheat the oven to 400°F (200°C). Thread the marinated chicken onto skewers and place them on a baking sheet. Bake for 20-25 minutes or until the chicken is cooked through.\n",
      "\n",
      "3. In a large skillet, heat the remaining vegetable oil over medium heat. Add the chopped onion and cook until softened, about 5 minutes. Add the remaining garlic and ginger, and cook for another minute.\n",
      "\n",
      "4. Stir in the crushed tomatoes, tomato paste, ground cumin, ground coriander, paprika, garam masala, turmeric, salt, and pepper. Simmer the sauce for 10-15 minutes, stirring occasionally.\n",
      "\n",
      "5. Add the cooked chicken tikka to the sauce and simmer for an additional 5 minutes to allow the flavors to meld together.\n",
      "\n",
      "6. Serve the Chicken Tikka Masala over cooked rice or with naan bread. Garnish with fresh cilantro and enjoy!\n",
      "\n",
      "This Chicken Tikka Masala recipe is sure to impress your friends and family with its rich and flavorful taste. Feel free to adjust the spice levels to suit your preference. Enjoy your homemade Indian feast!To make a vegetarian version of Chicken Tikka Masala, we can replace the chicken with a suitable alternative such as paneer or tofu. Here's how you can adapt the recipe:\n",
      "\n",
      "Ingredients:\n",
      "- 1 lb paneer or extra-firm tofu, cut into bite-sized pieces\n",
      "- 1 cup plain yogurt (you can use dairy-free yogurt for a vegan version)\n",
      "- 2 tbsp lemon juice\n",
      "- 2 tbsp vegetable oil\n",
      "- 1 onion, finely chopped\n",
      "- 3 cloves garlic, minced\n",
      "- 1-inch piece of ginger, grated\n",
      "- 1 can (14 oz) crushed tomatoes\n",
      "- 2 tbsp tomato paste\n",
      "- 1 tsp ground cumin\n",
      "- 1 tsp ground coriander\n",
      "- 1 tsp paprika\n",
      "- 1 tsp garam masala\n",
      "- 1/2 tsp turmeric\n",
      "- Salt and pepper, to taste\n",
      "- Fresh cilantro, for garnish\n",
      "- Cooked rice or naan, for serving\n",
      "\n",
      "Instructions:\n",
      "1. Follow the same marinating process as the original recipe, but use paneer or tofu instead of chicken. Marinate the paneer or tofu in the yogurt, lemon juice, vegetable oil, garlic, ginger, and salt for at least 1 hour.\n",
      "\n",
      "2. Instead of baking the chicken, you can pan-fry or grill the marinated paneer or tofu until they are golden brown and cooked through.\n",
      "\n",
      "3. Proceed with the recipe as instructed, replacing the chicken with the cooked paneer or tofu. Simmer the paneer or tofu in the sauce for a few minutes to absorb the flavors.\n",
      "\n",
      "4. Serve the Vegetarian Tikka Masala over cooked rice or with naan bread. Garnish with fresh cilantro and enjoy your flavorful vegetarian version of this classic Indian dish!\n",
      "\n",
      "By making these simple swaps, you can enjoy a delicious and satisfying Vegetarian Tikka Masala that retains the essence of the traditional recipe."
     ]
    },
    {
     "data": {
      "text/plain": [
       "AIMessageChunk(content=\"To make a vegetarian version of Chicken Tikka Masala, we can replace the chicken with a suitable alternative such as paneer or tofu. Here's how you can adapt the recipe:\\n\\nIngredients:\\n- 1 lb paneer or extra-firm tofu, cut into bite-sized pieces\\n- 1 cup plain yogurt (you can use dairy-free yogurt for a vegan version)\\n- 2 tbsp lemon juice\\n- 2 tbsp vegetable oil\\n- 1 onion, finely chopped\\n- 3 cloves garlic, minced\\n- 1-inch piece of ginger, grated\\n- 1 can (14 oz) crushed tomatoes\\n- 2 tbsp tomato paste\\n- 1 tsp ground cumin\\n- 1 tsp ground coriander\\n- 1 tsp paprika\\n- 1 tsp garam masala\\n- 1/2 tsp turmeric\\n- Salt and pepper, to taste\\n- Fresh cilantro, for garnish\\n- Cooked rice or naan, for serving\\n\\nInstructions:\\n1. Follow the same marinating process as the original recipe, but use paneer or tofu instead of chicken. Marinate the paneer or tofu in the yogurt, lemon juice, vegetable oil, garlic, ginger, and salt for at least 1 hour.\\n\\n2. Instead of baking the chicken, you can pan-fry or grill the marinated paneer or tofu until they are golden brown and cooked through.\\n\\n3. Proceed with the recipe as instructed, replacing the chicken with the cooked paneer or tofu. Simmer the paneer or tofu in the sauce for a few minutes to absorb the flavors.\\n\\n4. Serve the Vegetarian Tikka Masala over cooked rice or with naan bread. Garnish with fresh cilantro and enjoy your flavorful vegetarian version of this classic Indian dish!\\n\\nBy making these simple swaps, you can enjoy a delicious and satisfying Vegetarian Tikka Masala that retains the essence of the traditional recipe.\")"
      ]
     },
     "execution_count": 23,
     "metadata": {},
     "output_type": "execute_result"
    }
   ],
   "source": [
    "veg_chef_prompt = ChatPromptTemplate.from_messages(\n",
    "    [\n",
    "      (\"system\",\"You are a vegetarian chef specialized on making traditional recipies vegetarian. You find alternative ingredients and explain their preparation. You don't radically modify the recipe.\\\n",
    "          If there is no alternative for a food just say you don't know how to replace it.\")  ,\n",
    "      (\"human\",\"{recipe}\")\n",
    "    ]\n",
    ")\n",
    "\n",
    "veg_chain = veg_chef_prompt | chat\n",
    "## 코드 해석\n",
    "## chef_chain의 결과값을 recipe라하고 veg_chain에 대입한다\n",
    "final_chain = {\"recipe\" : chef_chain} | veg_chain\n",
    "final_chain.invoke({\"cuisine\" :\"indian\" })"
   ]
  },
  {
   "cell_type": "code",
   "execution_count": 8,
   "metadata": {},
   "outputs": [
    {
     "name": "stdout",
     "output_type": "stream",
     "text": [
      "AI: \n",
      "        Here is what I know:\n",
      "        Capital: Ankara\n",
      "        Language: Turkish\n",
      "        Food: Kebab and Baklava\n",
      "        Currency: Turkish Lira"
     ]
    },
    {
     "data": {
      "text/plain": [
       "AIMessageChunk(content='AI: \\n        Here is what I know:\\n        Capital: Ankara\\n        Language: Turkish\\n        Food: Kebab and Baklava\\n        Currency: Turkish Lira')"
      ]
     },
     "execution_count": 8,
     "metadata": {},
     "output_type": "execute_result"
    }
   ],
   "source": [
    "from langchain.chat_models import ChatOpenAI\n",
    "from langchain.prompts import ChatPromptTemplate\n",
    "from langchain.callbacks import StreamingStdOutCallbackHandler\n",
    "from langchain.prompts.few_shot import FewShotPromptTemplate\n",
    "from langchain.prompts.prompt import PromptTemplate\n",
    "chat = ChatOpenAI(temperature=0.1,\n",
    "                  streaming=True,\n",
    "                  callbacks=[StreamingStdOutCallbackHandler()]\n",
    "                  )\n",
    "\n",
    "\n",
    "examples = [\n",
    "    {\n",
    "        \"question\" : \"what do you know about France\",\n",
    "        \"answer\" : \"\"\"\n",
    "        Here is what I know:\n",
    "        Captial: Paris\n",
    "        Language: French\n",
    "        Food : Wine and Cheese\n",
    "        Currency: Euro\n",
    "        \"\"\",\n",
    "        \n",
    "    },\n",
    "    {\n",
    "        \"question\" : \"what do you know about Italy\",\n",
    "        \"answer\" : \"\"\"\n",
    "        Here is what I know:\n",
    "        Captial: Rome\n",
    "        Language: Italian\n",
    "        Food : Pizza and Pasta\n",
    "        Currency: Euro\n",
    "        \"\"\",\n",
    "        \n",
    "    },\n",
    "    {\n",
    "        \"question\" : \"what do you know about Greek\",\n",
    "        \"answer\" : \"\"\"\n",
    "        Here is what I know:\n",
    "        Captial: Athens\n",
    "        Language: Greek\n",
    "        Food : Souvlaki and Feta Cheese\n",
    "        Currency: Euro\n",
    "        \"\"\",\n",
    "        \n",
    "    },\n",
    "]\n",
    "\n",
    "\n",
    "example_template = \"\"\"\n",
    "    Human:{question}\n",
    "    AI:{answer}\n",
    "\"\"\"\n",
    "\n",
    "example_prompt = PromptTemplate.from_template(\"Human: {question}\\n AI:{answer}\")\n",
    "\n",
    "prompt = FewShotPromptTemplate(\n",
    "    example_prompt= example_prompt,\n",
    "    examples=examples,\n",
    "    suffix=\"Human : what do you know about {country}\",\n",
    "    input_variables=[\"country\"]\n",
    ")\n",
    "\n",
    "prompt.format(country=\"Germany\")\n",
    "\n",
    "chain = prompt | chat\n",
    "\n",
    "chain.invoke({\n",
    "    \"country\" : \"Turkey\"\n",
    "})"
   ]
  },
  {
   "cell_type": "code",
   "execution_count": 11,
   "metadata": {},
   "outputs": [
    {
     "ename": "TypeError",
     "evalue": "ChatPromptTemplate.from_messages() takes 2 positional arguments but 4 were given",
     "output_type": "error",
     "traceback": [
      "\u001b[1;31m---------------------------------------------------------------------------\u001b[0m",
      "\u001b[1;31mTypeError\u001b[0m                                 Traceback (most recent call last)",
      "Cell \u001b[1;32mIn[11], line 68\u001b[0m\n\u001b[0;32m     55\u001b[0m example_prompt \u001b[38;5;241m=\u001b[39m ChatPromptTemplate\u001b[38;5;241m.\u001b[39mfrom_messages(\n\u001b[0;32m     56\u001b[0m     [\n\u001b[0;32m     57\u001b[0m     (\u001b[38;5;124m\"\u001b[39m\u001b[38;5;124mhuman\u001b[39m\u001b[38;5;124m\"\u001b[39m,\u001b[38;5;124m\"\u001b[39m\u001b[38;5;124mwhat do you know about \u001b[39m\u001b[38;5;132;01m{country}\u001b[39;00m\u001b[38;5;124m?\u001b[39m\u001b[38;5;124m\"\u001b[39m),\n\u001b[0;32m     58\u001b[0m     (\u001b[38;5;124m\"\u001b[39m\u001b[38;5;124mai\u001b[39m\u001b[38;5;124m\"\u001b[39m,\u001b[38;5;124m\"\u001b[39m\u001b[38;5;132;01m{answer}\u001b[39;00m\u001b[38;5;124m\"\u001b[39m)\n\u001b[0;32m     59\u001b[0m     ]\n\u001b[0;32m     60\u001b[0m     )\n\u001b[0;32m     62\u001b[0m example_prompt \u001b[38;5;241m=\u001b[39m FewShotChatMessagePromptTemplate(\n\u001b[0;32m     63\u001b[0m     example_prompt\u001b[38;5;241m=\u001b[39m example_prompt,\n\u001b[0;32m     64\u001b[0m     examples\u001b[38;5;241m=\u001b[39mexamples,\n\u001b[0;32m     65\u001b[0m     \n\u001b[0;32m     66\u001b[0m )\n\u001b[1;32m---> 68\u001b[0m final_prompt \u001b[38;5;241m=\u001b[39m \u001b[43mChatPromptTemplate\u001b[49m\u001b[38;5;241;43m.\u001b[39;49m\u001b[43mfrom_messages\u001b[49m\u001b[43m(\u001b[49m\n\u001b[0;32m     69\u001b[0m \u001b[43m    \u001b[49m\u001b[43m(\u001b[49m\u001b[38;5;124;43m\"\u001b[39;49m\u001b[38;5;124;43msystem\u001b[39;49m\u001b[38;5;124;43m\"\u001b[39;49m\u001b[43m,\u001b[49m\u001b[43m \u001b[49m\u001b[38;5;124;43m\"\u001b[39;49m\u001b[38;5;124;43mYou are a geography expert\u001b[39;49m\u001b[38;5;124;43m\"\u001b[39;49m\u001b[43m)\u001b[49m\u001b[43m,\u001b[49m\n\u001b[0;32m     70\u001b[0m \u001b[43m    \u001b[49m\u001b[43mexample_prompt\u001b[49m\u001b[43m,\u001b[49m\n\u001b[0;32m     71\u001b[0m \u001b[43m    \u001b[49m\u001b[43m(\u001b[49m\u001b[38;5;124;43m\"\u001b[39;49m\u001b[38;5;124;43mhuman\u001b[39;49m\u001b[38;5;124;43m\"\u001b[39;49m\u001b[43m,\u001b[49m\u001b[38;5;124;43m\"\u001b[39;49m\u001b[38;5;124;43mwhat do you know about \u001b[39;49m\u001b[38;5;132;43;01m{country}\u001b[39;49;00m\u001b[38;5;124;43m?\u001b[39;49m\u001b[38;5;124;43m\"\u001b[39;49m\u001b[43m)\u001b[49m\n\u001b[0;32m     72\u001b[0m \u001b[43m)\u001b[49m\n\u001b[0;32m     74\u001b[0m chain \u001b[38;5;241m=\u001b[39m final_prompt \u001b[38;5;241m|\u001b[39m chat\n\u001b[0;32m     76\u001b[0m chain\u001b[38;5;241m.\u001b[39minvoke({\n\u001b[0;32m     77\u001b[0m     \u001b[38;5;124m\"\u001b[39m\u001b[38;5;124mcountry\u001b[39m\u001b[38;5;124m\"\u001b[39m : \u001b[38;5;124m\"\u001b[39m\u001b[38;5;124mGermany\u001b[39m\u001b[38;5;124m\"\u001b[39m\n\u001b[0;32m     78\u001b[0m })\n",
      "\u001b[1;31mTypeError\u001b[0m: ChatPromptTemplate.from_messages() takes 2 positional arguments but 4 were given"
     ]
    }
   ],
   "source": [
    "from langchain.chat_models import ChatOpenAI\n",
    "from langchain.prompts.few_shot import FewShotChatMessagePromptTemplate\n",
    "from langchain.callbacks import StreamingStdOutCallbackHandler\n",
    "from langchain.prompts import ChatMessagePromptTemplate, ChatPromptTemplate\n",
    "\n",
    "\n",
    "chat = ChatOpenAI(temperature=0.1,\n",
    "                  streaming=True,\n",
    "                  callbacks=[StreamingStdOutCallbackHandler()]\n",
    "                  )\n",
    "\n",
    "\n",
    "examples = [\n",
    "    {\n",
    "        \"country\" : \"France\",\n",
    "        \"answer\" : \"\"\"\n",
    "        Here is what I know:\n",
    "        Captial: Paris\n",
    "        Language: French\n",
    "        Food : Wine and Cheese\n",
    "        Currency: Euro\n",
    "        \"\"\",\n",
    "        \n",
    "    },\n",
    "    {\n",
    "        \"country\" : \"Italy\",\n",
    "        \"answer\" : \"\"\"\n",
    "        Here is what I know:\n",
    "        Captial: Rome\n",
    "        Language: Italian\n",
    "        Food : Pizza and Pasta\n",
    "        Currency: Euro\n",
    "        \"\"\",\n",
    "        \n",
    "    },\n",
    "    {\n",
    "        \"country\" : \"Greek\",\n",
    "        \"answer\" : \"\"\"\n",
    "        Here is what I know:\n",
    "        Captial: Athens\n",
    "        Language: Greek\n",
    "        Food : Souvlaki and Feta Cheese\n",
    "        Currency: Euro\n",
    "        \"\"\",\n",
    "        \n",
    "    },\n",
    "]\n",
    "\n",
    "\n",
    "example_template = \"\"\"\n",
    "    Human:{question}\n",
    "    AI:{answer}\n",
    "\"\"\"\n",
    "\n",
    "example_prompt = ChatPromptTemplate.from_messages(\n",
    "    [\n",
    "    (\"human\",\"what do you know about {country}?\"),\n",
    "    (\"ai\",\"{answer}\")\n",
    "    ]\n",
    "    )\n",
    "\n",
    "example_prompt = FewShotChatMessagePromptTemplate(\n",
    "    example_prompt= example_prompt,\n",
    "    examples=examples,\n",
    "    \n",
    ")\n",
    "\n",
    "final_prompt = ChatPromptTemplate.from_messages(\n",
    "    [(\"system\", \"You are a geography expert\"),\n",
    "    example_prompt,\n",
    "    (\"human\",\"what do you know about {country}?\")]\n",
    ")\n",
    "\n",
    "chain = final_prompt | chat\n",
    "\n",
    "chain.invoke({\n",
    "    \"country\" : \"Germany\"\n",
    "})"
   ]
  },
  {
   "cell_type": "code",
   "execution_count": null,
   "metadata": {},
   "outputs": [],
   "source": []
  }
 ],
 "metadata": {
  "kernelspec": {
   "display_name": "env",
   "language": "python",
   "name": "python3"
  },
  "language_info": {
   "codemirror_mode": {
    "name": "ipython",
    "version": 3
   },
   "file_extension": ".py",
   "mimetype": "text/x-python",
   "name": "python",
   "nbconvert_exporter": "python",
   "pygments_lexer": "ipython3",
   "version": "3.11.6"
  }
 },
 "nbformat": 4,
 "nbformat_minor": 2
}
